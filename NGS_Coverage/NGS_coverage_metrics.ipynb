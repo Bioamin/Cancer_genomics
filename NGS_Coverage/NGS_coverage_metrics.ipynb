{
 "cells": [
  {
   "cell_type": "code",
   "execution_count": 178,
   "metadata": {},
   "outputs": [],
   "source": [
    "####################################\n",
    "#  Analysing NGS coverage metrics\n",
    "#  Amin Boroomand\n",
    "#  Jan 2023, Verson 1\n",
    "#  \n",
    "#\n",
    "###################################"
   ]
  },
  {
   "cell_type": "markdown",
   "metadata": {},
   "source": [
    "I decompressed files in bash using the following commands\n",
    "\n",
    "\n",
    "gzip -d *.gz    \n",
    "gzip -k *.txt "
   ]
  },
  {
   "cell_type": "code",
   "execution_count": 179,
   "metadata": {},
   "outputs": [],
   "source": [
    "######################Imports########################\n",
    "\n",
    "import pandas as pd\n",
    "import os"
   ]
  },
  {
   "cell_type": "code",
   "execution_count": 180,
   "metadata": {},
   "outputs": [],
   "source": [
    "#####################Reading files#####################\n",
    "\n",
    "#set working directory\n",
    "os.chdir(\"/Users/amin/Desktop/Cancer_Maftool/IGM_user01/\")\n",
    "# list of file names and dataframe names\n",
    "files_list = ['sample1_depths.txt', 'sample2_depths.txt', 'sample3_depths.txt']\n",
    "#put each file in a separated dataframe for each sample\n",
    "for filename in files_list:\n",
    "    if int(filename[6:7])==1:\n",
    "        S1=pd.read_csv(filename, delimiter='\\t')\n",
    "    elif int(filename[6:7])==2:\n",
    "        S2=pd.read_csv(filename, delimiter='\\t')\n",
    "    elif int(filename[6:7])==3:\n",
    "        S3=pd.read_csv(filename, delimiter='\\t')\n",
    "        "
   ]
  },
  {
   "cell_type": "code",
   "execution_count": 181,
   "metadata": {
    "scrolled": true
   },
   "outputs": [],
   "source": [
    "#########Data_cleaning######################\n",
    "\n",
    "#remove entries with 0 read depth from dataframes\n",
    "S1 = S1.loc[S1['Depth'] != 0]\n",
    "S2 = S2.loc[S2['Depth'] != 0]\n",
    "S3 = S3.loc[S3['Depth'] != 0]\n",
    "#We dont need the Depth column to answer question 1 and 2, so lets remove it\n",
    "S1d = S1.drop('Depth', axis=1)\n",
    "S2d = S2.drop('Depth', axis=1)\n",
    "S3d = S3.drop('Depth', axis=1)\n"
   ]
  },
  {
   "cell_type": "code",
   "execution_count": 190,
   "metadata": {},
   "outputs": [
    {
     "name": "stdout",
     "output_type": "stream",
     "text": [
      "        Chromosome  Position\n",
      "0             chr1      9997\n",
      "692           chr1     10700\n",
      "693           chr1     10701\n",
      "694           chr1     10702\n",
      "695           chr1     10703\n",
      "...            ...       ...\n",
      "2407483       chr3    982698\n",
      "2407484       chr3    982699\n",
      "2407485       chr3    982700\n",
      "2407486       chr3    982701\n",
      "2407487       chr3    982785\n",
      "\n",
      "[25997 rows x 2 columns]\n",
      "Question 1\n",
      "Number of positions that are unique to the file 'sample2_depths.txt' is =  25997\n"
     ]
    }
   ],
   "source": [
    "#############finding unique rows of sample 2 in comparison to sample 3 and Sample 1########\n",
    "\n",
    "#concat sample 1 and sample 3\n",
    "S1d_S3d = pd.concat([S1d, S3d], ignore_index=True)\n",
    "#remove the dublicated rows of sample 1 and sample 3\n",
    "S1d_S3d.drop_duplicates(inplace=True)\n",
    "\n",
    "# Merge sample 2 with concatenated Sample 1 and sample3, then add an indicator column\n",
    "merged_S2_concat = pd.merge( S2d, S1d_S3d, on=[\"Chromosome\", \"Position\"], how='outer', indicator=True)\n",
    "# Get the rows that are only present in sample 2\n",
    "unique_rows_S2d = merged_S2_concat.loc[merged_S2_concat._merge == 'left_only']\n",
    "# Drop the indicator column\n",
    "unique_rows_S2d = unique_rows_S2d.drop(columns=['_merge'])\n",
    "#print(unique_rows_S2d)\n",
    "print(\"Question 1\")\n",
    "print(\"Number of positions that are unique to the file 'sample2_depths.txt' is = \", unique_rows_S2d.shape[0])\n"
   ]
  },
  {
   "cell_type": "code",
   "execution_count": 191,
   "metadata": {},
   "outputs": [
    {
     "name": "stdout",
     "output_type": "stream",
     "text": [
      "Question 2\n",
      "Number of positions that are in common between all three depth files =  2354995\n"
     ]
    }
   ],
   "source": [
    "#####################Number of positions that are in common between all three depth files##################\n",
    "\n",
    "#merge the three DataFrames while only keep the rows that have matching values in all three of them\n",
    "merged_df = pd.merge(pd.merge(S1d, S2d, on=[\"Chromosome\", \"Position\"], how='inner'), S3d, on=[\"Chromosome\", \"Position\"], how='inner')\n",
    "print(\"Question 2\")\n",
    "print(\"Number of positions that are in common between all three depth files = \", merged_df.shape[0])"
   ]
  },
  {
   "cell_type": "code",
   "execution_count": 192,
   "metadata": {},
   "outputs": [
    {
     "name": "stdout",
     "output_type": "stream",
     "text": [
      "Question 3\n",
      "Following is the average read depth for each chromosome in the experiment\n",
      "Chromosome\n",
      "chr1    32.168590\n",
      "chr2    66.668454\n",
      "chr3    30.070197\n",
      "Name: AVG_Depth, dtype: float64\n"
     ]
    }
   ],
   "source": [
    "##########Computing the Average Depth of three samples###########\n",
    "\n",
    "#concat all samples and calculate the sum of the Depth\n",
    "depth_sum_df= pd.concat([S1, S2, S3]).groupby(['Chromosome', 'Position']).sum().reset_index()\n",
    "#Add a column of Average of the Depth\n",
    "depth_avg_df= depth_sum_df.assign(AVG_Depth=depth_sum_df['Depth'] / 3)\n",
    "\n",
    "#Question 3: the average read depth for each chromosome \n",
    "Chromosome_AVG_Depth = depth_avg_df.groupby('Chromosome')['AVG_Depth'].sum()/1000000\n",
    "print(\"Question 3\")\n",
    "print(\"Following is the average read depth for each chromosome in the experiment\")\n",
    "print(Chromosome_AVG_Depth)"
   ]
  },
  {
   "cell_type": "code",
   "execution_count": 193,
   "metadata": {},
   "outputs": [
    {
     "name": "stdout",
     "output_type": "stream",
     "text": [
      "Question 4\n",
      "Following is the position which has the largest average depth\n",
      "Chromosome  Position    AVG_Depth\n",
      "      chr1    567579  1660.666667\n"
     ]
    }
   ],
   "source": [
    "#Question 4: find the row with a maximum average Depth\n",
    "top_n_rows = depth_avg_df.nlargest(1, 'AVG_Depth')\n",
    "print(\"Question 4\")\n",
    "print(\"Following is the position which has the largest average depth\")\n",
    "print(top_n_rows.drop(columns=['Depth']).to_string(index=False))"
   ]
  }
 ],
 "metadata": {
  "kernelspec": {
   "display_name": "Python 3",
   "language": "python",
   "name": "python3"
  },
  "language_info": {
   "codemirror_mode": {
    "name": "ipython",
    "version": 3
   },
   "file_extension": ".py",
   "mimetype": "text/x-python",
   "name": "python",
   "nbconvert_exporter": "python",
   "pygments_lexer": "ipython3",
   "version": "3.8.5"
  }
 },
 "nbformat": 4,
 "nbformat_minor": 4
}
